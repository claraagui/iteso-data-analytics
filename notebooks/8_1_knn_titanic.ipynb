{
 "cells": [
  {
   "cell_type": "markdown",
   "metadata": {},
   "source": [
    "si desconocemos hacemos un min, max scaler"
   ]
  },
  {
   "cell_type": "code",
   "execution_count": null,
   "metadata": {},
   "outputs": [],
   "source": []
  }
 ],
 "metadata": {
  "language_info": {
   "name": "python"
  }
 },
 "nbformat": 4,
 "nbformat_minor": 2
}
