{
 "cells": [
  {
   "cell_type": "code",
   "execution_count": 1,
   "metadata": {},
   "outputs": [
    {
     "name": "stdout",
     "output_type": "stream",
     "text": [
      "[1]\n",
      "[2, 1.0]\n",
      "[3, 10, 5.0, 16.0, 8.0, 4.0, 2.0, 1.0]\n",
      "[4, 2.0, 1.0]\n",
      "[5, 16, 8.0, 4.0, 2.0, 1.0]\n",
      "[6, 3.0, 10.0, 5.0, 16.0, 8.0, 4.0, 2.0, 1.0]\n",
      "[7, 22, 11.0, 34.0, 17.0, 52.0, 26.0, 13.0, 40.0, 20.0, 10.0, 5.0, 16.0, 8.0, 4.0, 2.0, 1.0]\n",
      "[8, 4.0, 2.0, 1.0]\n",
      "[9, 28, 14.0, 7.0, 22.0, 11.0, 34.0, 17.0, 52.0, 26.0, 13.0, 40.0, 20.0, 10.0, 5.0, 16.0, 8.0, 4.0, 2.0, 1.0]\n",
      "[10, 5.0, 16.0, 8.0, 4.0, 2.0, 1.0]\n",
      "The number 9 has the longest Collatz sequence of length 20 in the range 1 to 10.\n"
     ]
    }
   ],
   "source": [
    "def collatz_sequence(n):\n",
    "    sequence=[n]\n",
    "    while sequence[-1] != 1:\n",
    "        if sequence[-1] % 2 == 0:\n",
    "            sequence.append(sequence[-1]/2)\n",
    "        else:\n",
    "            sequence.append((3*sequence[-1])+1)\n",
    "    return sequence, len(sequence) #parentesis son utilizados para funciones\n",
    "\n",
    "a = int(input(\"Ingrese un numero entero a: \"))\n",
    "b = int(input(\"Ingrese un numero entero b: \"))\n",
    "\n",
    "n_secuencia_max = -1 #\n",
    "index_max = -1\n",
    "for i in range(a,b+1):\n",
    "    secuencia, n_secuencia = collatz_sequence(i)\n",
    "    print(secuencia)\n",
    "    if n_secuencia > n_secuencia_max:\n",
    "        n_secuencia_max = n_secuencia\n",
    "        index_max = i\n",
    "\n",
    "print(f\"The number {index_max} has the longest Collatz sequence of length {n_secuencia_max} in the range {a} to {b}.\")"
   ]
  }
 ],
 "metadata": {
  "kernelspec": {
   "display_name": "iteso",
   "language": "python",
   "name": "python3"
  },
  "language_info": {
   "codemirror_mode": {
    "name": "ipython",
    "version": 3
   },
   "file_extension": ".py",
   "mimetype": "text/x-python",
   "name": "python",
   "nbconvert_exporter": "python",
   "pygments_lexer": "ipython3",
   "version": "3.12.1"
  }
 },
 "nbformat": 4,
 "nbformat_minor": 2
}
